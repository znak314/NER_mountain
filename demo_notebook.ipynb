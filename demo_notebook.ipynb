{
 "cells": [
  {
   "cell_type": "code",
   "id": "initial_id",
   "metadata": {
    "collapsed": true,
    "ExecuteTime": {
     "end_time": "2024-10-09T15:21:58.703309Z",
     "start_time": "2024-10-09T15:21:45.928214Z"
    }
   },
   "source": [
    "#!pip install simpletransformers\n",
    "from simpletransformers.ner import NERModel\n",
    "import re"
   ],
   "outputs": [
    {
     "name": "stderr",
     "output_type": "stream",
     "text": [
      "C:\\Users\\pizna\\PycharmProjects\\Test task\\.venv\\Lib\\site-packages\\tqdm\\auto.py:21: TqdmWarning: IProgress not found. Please update jupyter and ipywidgets. See https://ipywidgets.readthedocs.io/en/stable/user_install.html\n",
      "  from .autonotebook import tqdm as notebook_tqdm\n"
     ]
    }
   ],
   "execution_count": 1
  },
  {
   "metadata": {},
   "cell_type": "markdown",
   "source": "## Model deploying",
   "id": "eab89346e63e35e1"
  },
  {
   "metadata": {
    "ExecuteTime": {
     "end_time": "2024-10-09T15:22:03.297497Z",
     "start_time": "2024-10-09T15:22:03.079971Z"
    }
   },
   "cell_type": "code",
   "source": [
    "# Initialize the NER model\n",
    "model_directory = \"model/\"\n",
    "model = NERModel(model_type='bert', model_name=model_directory, use_cuda=False)"
   ],
   "id": "6c6cdf689326e4be",
   "outputs": [],
   "execution_count": 2
  },
  {
   "metadata": {},
   "cell_type": "markdown",
   "source": "## Functions for converting in readeble format",
   "id": "8beb413e89b04f84"
  },
  {
   "metadata": {
    "ExecuteTime": {
     "end_time": "2024-10-09T15:22:06.323364Z",
     "start_time": "2024-10-09T15:22:06.316815Z"
    }
   },
   "cell_type": "code",
   "source": [
    "def highlight_mountains(input_sentence, model_predict):\n",
    "    mountains = []\n",
    "    current_mountain = []\n",
    "\n",
    "    for word in model_predict[0]:\n",
    "        if 'B-MOUNT' in word.values():\n",
    "            # If we find a new mountain name, store the previous one\n",
    "            if current_mountain:\n",
    "                mountains.append(' '.join(current_mountain)) \n",
    "                current_mountain = []\n",
    "            current_mountain.append(list(word.keys())[0])\n",
    "        elif 'I-MOUNT' in word.values() and current_mountain:  # Check for the continuation of a mountain name\n",
    "            current_mountain.append(list(word.keys())[0])\n",
    "\n",
    "    # Add the last mountain name if it exists\n",
    "    if current_mountain:\n",
    "        mountains.append(' '.join(current_mountain))\n",
    "\n",
    "    # Replace mountain names in the input sentence with highlighted versions\n",
    "    for mountain in mountains:\n",
    "        input_sentence = re.sub(r'(?<!\\w)' + re.escape(mountain) + r'(?!\\w)', f'**{mountain}** (Mountains)', input_sentence)\n",
    "\n",
    "    return input_sentence"
   ],
   "id": "18bcf86488f01450",
   "outputs": [],
   "execution_count": 3
  },
  {
   "metadata": {
    "ExecuteTime": {
     "end_time": "2024-10-09T15:22:07.878984Z",
     "start_time": "2024-10-09T15:22:07.875726Z"
    }
   },
   "cell_type": "code",
   "source": [
    "def process_prediction(input_sentence):\n",
    "    prediction, model_output = model.predict([input_sentence])\n",
    "\n",
    "    # Highlight mountain names\n",
    "    highlighted_sentence = highlight_mountains(input_sentence, prediction)\n",
    "    print(highlighted_sentence) "
   ],
   "id": "9dcd5f7b3e3cbee5",
   "outputs": [],
   "execution_count": 4
  },
  {
   "metadata": {},
   "cell_type": "markdown",
   "source": "## Some tests ",
   "id": "f5a5cd47be1fe66a"
  },
  {
   "metadata": {
    "ExecuteTime": {
     "end_time": "2024-10-09T15:22:26.866557Z",
     "start_time": "2024-10-09T15:22:18.690134Z"
    }
   },
   "cell_type": "code",
   "source": [
    "input_sentence = \"While climbing the majestic peaks of the Himalayas, including Mount Everest and Kanchenjunga, the mountaineers marveled at the breathtaking views and the unique challenges presented by each summit.\"\n",
    "process_prediction(input_sentence)"
   ],
   "id": "fc7e50668e0134d5",
   "outputs": [
    {
     "name": "stderr",
     "output_type": "stream",
     "text": [
      "100%|██████████| 1/1 [00:06<00:00,  6.71s/it]\n",
      "Running Prediction: 100%|██████████| 1/1 [00:01<00:00,  1.38s/it]"
     ]
    },
    {
     "name": "stdout",
     "output_type": "stream",
     "text": [
      "While climbing the majestic peaks of the **Himalayas,** (Mountains) including **Mount Everest** (Mountains) and **Kanchenjunga,** (Mountains) the mountaineers marveled at the breathtaking views and the unique challenges presented by each summit.\n"
     ]
    },
    {
     "name": "stderr",
     "output_type": "stream",
     "text": [
      "\n"
     ]
    }
   ],
   "execution_count": 5
  },
  {
   "metadata": {
    "ExecuteTime": {
     "end_time": "2024-10-09T15:23:59.514588Z",
     "start_time": "2024-10-09T15:23:53.128224Z"
    }
   },
   "cell_type": "code",
   "source": [
    "input_sentence = \"Despite the challenges posed by the unpredictable weather, the expedition team successfully reached the summit of K2, one of the most treacherous peaks in the world.\"\n",
    "process_prediction(input_sentence)"
   ],
   "id": "5e56a7cfb567de60",
   "outputs": [
    {
     "name": "stderr",
     "output_type": "stream",
     "text": [
      "100%|██████████| 1/1 [00:06<00:00,  6.19s/it]\n",
      "Running Prediction: 100%|██████████| 1/1 [00:00<00:00,  7.73it/s]"
     ]
    },
    {
     "name": "stdout",
     "output_type": "stream",
     "text": [
      "Despite the challenges posed by the unpredictable weather, the expedition team successfully reached the summit of **K2,** (Mountains) one of the most treacherous peaks in the world.\n"
     ]
    },
    {
     "name": "stderr",
     "output_type": "stream",
     "text": [
      "\n"
     ]
    }
   ],
   "execution_count": 7
  },
  {
   "metadata": {
    "ExecuteTime": {
     "end_time": "2024-10-09T15:24:51.187262Z",
     "start_time": "2024-10-09T15:24:45.177708Z"
    }
   },
   "cell_type": "code",
   "source": [
    "input_sentence = \"Mont Blanc dominates the Alps as its tallest peak.\"\n",
    "process_prediction(input_sentence)"
   ],
   "id": "3838831e0213d1b7",
   "outputs": [
    {
     "name": "stderr",
     "output_type": "stream",
     "text": [
      "100%|██████████| 1/1 [00:05<00:00,  5.77s/it]\n",
      "Running Prediction: 100%|██████████| 1/1 [00:00<00:00,  6.49it/s]"
     ]
    },
    {
     "name": "stdout",
     "output_type": "stream",
     "text": [
      "**Mont Blanc** (Mountains) dominates the **Alps** (Mountains) as its tallest peak.\n"
     ]
    },
    {
     "name": "stderr",
     "output_type": "stream",
     "text": [
      "\n"
     ]
    }
   ],
   "execution_count": 8
  },
  {
   "metadata": {
    "ExecuteTime": {
     "end_time": "2024-10-09T15:25:37.667087Z",
     "start_time": "2024-10-09T15:25:32.242869Z"
    }
   },
   "cell_type": "code",
   "source": [
    "input_sentence = \"Hoverla is the highest point in Ukraine.\"\n",
    "process_prediction(input_sentence)"
   ],
   "id": "17c9f66391d52e6a",
   "outputs": [
    {
     "name": "stderr",
     "output_type": "stream",
     "text": [
      "100%|██████████| 1/1 [00:05<00:00,  5.24s/it]\n",
      "Running Prediction: 100%|██████████| 1/1 [00:00<00:00,  8.20it/s]"
     ]
    },
    {
     "name": "stdout",
     "output_type": "stream",
     "text": [
      "**Hoverla** (Mountains) is the highest point in Ukraine.\n"
     ]
    },
    {
     "name": "stderr",
     "output_type": "stream",
     "text": [
      "\n"
     ]
    }
   ],
   "execution_count": 9
  }
 ],
 "metadata": {
  "kernelspec": {
   "display_name": "Python 3",
   "language": "python",
   "name": "python3"
  },
  "language_info": {
   "codemirror_mode": {
    "name": "ipython",
    "version": 2
   },
   "file_extension": ".py",
   "mimetype": "text/x-python",
   "name": "python",
   "nbconvert_exporter": "python",
   "pygments_lexer": "ipython2",
   "version": "2.7.6"
  }
 },
 "nbformat": 4,
 "nbformat_minor": 5
}
